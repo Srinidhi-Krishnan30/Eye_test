{
 "cells": [
  {
   "cell_type": "code",
   "execution_count": 2,
   "metadata": {},
   "outputs": [],
   "source": [
    "#Importing required modules\n",
    "import tensorflow as tf\n",
    "from tensorflow import keras\n",
    "from tensorflow.keras import layers\n",
    "from tensorflow.keras.preprocessing.image import ImageDataGenerator\n",
    "import matplotlib.pyplot as plt"
   ]
  },
  {
   "cell_type": "code",
   "execution_count": null,
   "metadata": {},
   "outputs": [],
   "source": [
    "# Command to split dataset into testing and training dataset\n",
    "import splitfolders\n",
    "inp_folder=r'C:\\Users\\kadal\\Desktop\\Comp_22.2\\Dataset\\dataset'\n",
    "splitfolders.ratio(inp_folder,output=\"dataset\",seed=42,ratio=(.6,.4),group_prefix=None)"
   ]
  },
  {
   "cell_type": "code",
   "execution_count": 51,
   "metadata": {},
   "outputs": [],
   "source": [
    "#Defining a Sequential Model\n",
    "\n",
    "'''\n",
    "WORKING CODE\n",
    "model = tf.keras.Sequential(\n",
    "    [\n",
    "        \n",
    "        layers.Dense(64, activation=\"relu\", name=\"layer1\"),\n",
    "        layers.Flatten(),\n",
    "        #layers.Dense(32, name=\"layer2\"),\n",
    "        layers.Dropout(0.5),\n",
    "        layers.Dense(4, activation='softmax')\n",
    "        #we have 4 output categories and corresponding activation function is used\n",
    "    ]\n",
    ")'''\n"
   ]
  },
  {
   "cell_type": "code",
   "execution_count": 90,
   "metadata": {},
   "outputs": [],
   "source": [
    "#CONV 2D +pooling+FLATTENNG\n",
    "model = tf.keras.Sequential(\n",
    "    [\n",
    "        \n",
    "        layers.Dense(64, activation=\"relu\", name=\"layer1\"),\n",
    "        \n",
    "        layers.Conv2D(64,(3,3),activation='relu'),\n",
    "        layers.MaxPooling2D(pool_size=(2, 2)),\n",
    "        \n",
    "        layers.Conv2D(32,(4,4),padding=\"same\",activation='relu',input_shape=(None,150,150,3)),\n",
    "        \n",
    "        layers.Dropout(0.2),\n",
    "        \n",
    "        layers.Dense(32,activation='relu'),\n",
    "        layers.Flatten(),\n",
    "        layers.Dense(4, activation='softmax')\n",
    "        #we have 4 output categories and corresponding activation function is used\n",
    "    ]\n",
    ")\n"
   ]
  },
  {
   "cell_type": "code",
   "execution_count": 89,
   "metadata": {},
   "outputs": [],
   "source": [
    "#Flattening +CONV1D\n",
    "model = tf.keras.Sequential(\n",
    "    [\n",
    "        \n",
    "        layers.Dense(64, activation=\"relu\", name=\"layer1\"),\n",
    "        layers.Flatten(),\n",
    "        #layers.Dense(32, name=\"layer2\"),\n",
    "        layers.Dropout(0.5),\n",
    "        layers.Dense(4, activation='softmax')\n",
    "        #we have 4 output categories and corresponding activation function is used\n",
    "    ]\n",
    ")"
   ]
  },
  {
   "cell_type": "code",
   "execution_count": 91,
   "metadata": {},
   "outputs": [],
   "source": [
    "model.build(input_shape=(None,150,150,3))"
   ]
  },
  {
   "cell_type": "code",
   "execution_count": 92,
   "metadata": {},
   "outputs": [],
   "source": [
    "model.compile(optimizer='adam',loss='categorical_crossentropy',metrics=['accuracy'])\n"
   ]
  },
  {
   "cell_type": "code",
   "execution_count": 93,
   "metadata": {},
   "outputs": [
    {
     "name": "stdout",
     "output_type": "stream",
     "text": [
      "Model: \"sequential_23\"\n",
      "_________________________________________________________________\n",
      " Layer (type)                Output Shape              Param #   \n",
      "=================================================================\n",
      " layer1 (Dense)              (None, 150, 150, 64)      256       \n",
      "                                                                 \n",
      " conv2d_21 (Conv2D)          (None, 148, 148, 64)      36928     \n",
      "                                                                 \n",
      " max_pooling2d_8 (MaxPooling  (None, 74, 74, 64)       0         \n",
      " 2D)                                                             \n",
      "                                                                 \n",
      " conv2d_22 (Conv2D)          (None, 74, 74, 32)        32800     \n",
      "                                                                 \n",
      " dropout_19 (Dropout)        (None, 74, 74, 32)        0         \n",
      "                                                                 \n",
      " dense_34 (Dense)            (None, 74, 74, 32)        1056      \n",
      "                                                                 \n",
      " flatten_29 (Flatten)        (None, 175232)            0         \n",
      "                                                                 \n",
      " dense_35 (Dense)            (None, 4)                 700932    \n",
      "                                                                 \n",
      "=================================================================\n",
      "Total params: 771,972\n",
      "Trainable params: 771,972\n",
      "Non-trainable params: 0\n",
      "_________________________________________________________________\n"
     ]
    }
   ],
   "source": [
    "model.summary()"
   ]
  },
  {
   "cell_type": "code",
   "execution_count": 86,
   "metadata": {},
   "outputs": [
    {
     "name": "stdout",
     "output_type": "stream",
     "text": [
      "Found 2528 images belonging to 4 classes.\n",
      "Found 1689 images belonging to 4 classes.\n"
     ]
    }
   ],
   "source": [
    "#Loading the training dataset adn testing dataset\n",
    "train_gen = ImageDataGenerator(rescale=1./255)\n",
    "\n",
    "test_gen = ImageDataGenerator(rescale=1./255)\n",
    "train_data = train_gen.flow_from_directory(\n",
    "        'train',\n",
    "        target_size=(150, 150),\n",
    "        batch_size=32,\n",
    "        class_mode='categorical')\n",
    "test_data = test_gen.flow_from_directory(\n",
    "        'test',\n",
    "        target_size=(150, 150),\n",
    "        batch_size=32,\n",
    "        class_mode='categorical')\n"
   ]
  },
  {
   "cell_type": "code",
   "execution_count": 96,
   "metadata": {},
   "outputs": [
    {
     "name": "stderr",
     "output_type": "stream",
     "text": [
      "C:\\Users\\kadal\\AppData\\Roaming\\Python\\Python37\\site-packages\\ipykernel_launcher.py:8: UserWarning: `Model.fit_generator` is deprecated and will be removed in a future version. Please use `Model.fit`, which supports generators.\n",
      "  \n"
     ]
    },
    {
     "name": "stdout",
     "output_type": "stream",
     "text": [
      "Epoch 1/50\n",
      "77/77 [==============================] - 200s 3s/step - loss: 0.4045 - accuracy: 0.8425 - val_loss: 0.5861 - val_accuracy: 0.7563\n",
      "Epoch 2/50\n",
      "77/77 [==============================] - 279s 4s/step - loss: 0.3630 - accuracy: 0.8584 - val_loss: 0.5444 - val_accuracy: 0.7931\n",
      "Epoch 3/50\n",
      "77/77 [==============================] - 278s 4s/step - loss: 0.3516 - accuracy: 0.8584 - val_loss: 0.5558 - val_accuracy: 0.7806\n",
      "Epoch 4/50\n",
      "77/77 [==============================] - 270s 3s/step - loss: 0.3378 - accuracy: 0.8689 - val_loss: 0.5804 - val_accuracy: 0.7862\n",
      "Epoch 5/50\n",
      "77/77 [==============================] - 265s 3s/step - loss: 0.3281 - accuracy: 0.8738 - val_loss: 0.5539 - val_accuracy: 0.7856\n",
      "Epoch 6/50\n",
      "77/77 [==============================] - 279s 4s/step - loss: 0.2900 - accuracy: 0.8815 - val_loss: 0.5588 - val_accuracy: 0.8031\n",
      "Epoch 7/50\n",
      "77/77 [==============================] - 169s 2s/step - loss: 0.2949 - accuracy: 0.8856 - val_loss: 0.5813 - val_accuracy: 0.7844\n",
      "Epoch 8/50\n",
      "77/77 [==============================] - 175s 2s/step - loss: 0.2839 - accuracy: 0.8912 - val_loss: 0.5753 - val_accuracy: 0.7925\n",
      "Epoch 9/50\n",
      "77/77 [==============================] - 187s 2s/step - loss: 0.2808 - accuracy: 0.8969 - val_loss: 0.6608 - val_accuracy: 0.7937\n",
      "Epoch 10/50\n",
      "77/77 [==============================] - 199s 3s/step - loss: 0.2618 - accuracy: 0.9058 - val_loss: 0.6057 - val_accuracy: 0.7844\n",
      "Epoch 11/50\n",
      "77/77 [==============================] - 202s 3s/step - loss: 0.2358 - accuracy: 0.9107 - val_loss: 0.5775 - val_accuracy: 0.8069\n",
      "Epoch 12/50\n",
      "77/77 [==============================] - 216s 3s/step - loss: 0.2009 - accuracy: 0.9269 - val_loss: 0.6308 - val_accuracy: 0.7956\n",
      "Epoch 13/50\n",
      "77/77 [==============================] - 216s 3s/step - loss: 0.2036 - accuracy: 0.9253 - val_loss: 0.6321 - val_accuracy: 0.8175\n",
      "Epoch 14/50\n",
      "77/77 [==============================] - 198s 3s/step - loss: 0.1823 - accuracy: 0.9359 - val_loss: 0.6961 - val_accuracy: 0.7969\n",
      "Epoch 15/50\n",
      "77/77 [==============================] - 216s 3s/step - loss: 0.1640 - accuracy: 0.9391 - val_loss: 0.7637 - val_accuracy: 0.7869\n",
      "Epoch 16/50\n",
      "77/77 [==============================] - 256s 3s/step - loss: 0.1675 - accuracy: 0.9387 - val_loss: 0.7696 - val_accuracy: 0.7975\n",
      "Epoch 17/50\n",
      "77/77 [==============================] - 243s 3s/step - loss: 0.1378 - accuracy: 0.9464 - val_loss: 0.7702 - val_accuracy: 0.7769\n",
      "Epoch 18/50\n",
      "77/77 [==============================] - 252s 3s/step - loss: 0.1243 - accuracy: 0.9533 - val_loss: 0.8211 - val_accuracy: 0.8006\n",
      "Epoch 19/50\n",
      "77/77 [==============================] - 238s 3s/step - loss: 0.1220 - accuracy: 0.9574 - val_loss: 0.6887 - val_accuracy: 0.8069\n",
      "Epoch 20/50\n",
      "77/77 [==============================] - 234s 3s/step - loss: 0.1451 - accuracy: 0.9464 - val_loss: 0.7599 - val_accuracy: 0.7906\n",
      "Epoch 21/50\n",
      "77/77 [==============================] - 197s 3s/step - loss: 0.1217 - accuracy: 0.9513 - val_loss: 0.7505 - val_accuracy: 0.7994\n",
      "Epoch 22/50\n",
      "77/77 [==============================] - 195s 3s/step - loss: 0.1136 - accuracy: 0.9606 - val_loss: 0.7315 - val_accuracy: 0.8019\n",
      "Epoch 23/50\n",
      "77/77 [==============================] - 224s 3s/step - loss: 0.0980 - accuracy: 0.9667 - val_loss: 0.7506 - val_accuracy: 0.8144\n",
      "Epoch 24/50\n",
      "77/77 [==============================] - 212s 3s/step - loss: 0.1045 - accuracy: 0.9671 - val_loss: 0.8836 - val_accuracy: 0.7875\n",
      "Epoch 25/50\n",
      "77/77 [==============================] - 285s 4s/step - loss: 0.0805 - accuracy: 0.9696 - val_loss: 0.8352 - val_accuracy: 0.7975\n",
      "Epoch 26/50\n",
      "77/77 [==============================] - 200s 3s/step - loss: 0.0853 - accuracy: 0.9728 - val_loss: 0.9380 - val_accuracy: 0.8000\n",
      "Epoch 27/50\n",
      "77/77 [==============================] - 230s 3s/step - loss: 0.0744 - accuracy: 0.9789 - val_loss: 0.9204 - val_accuracy: 0.8000\n",
      "Epoch 28/50\n",
      "77/77 [==============================] - 169s 2s/step - loss: 0.0829 - accuracy: 0.9728 - val_loss: 0.8830 - val_accuracy: 0.7981\n",
      "Epoch 29/50\n",
      "77/77 [==============================] - 271s 4s/step - loss: 0.0457 - accuracy: 0.9911 - val_loss: 0.9861 - val_accuracy: 0.8012\n",
      "Epoch 30/50\n",
      "28/77 [=========>....................] - ETA: 3:12 - loss: 0.0224 - accuracy: 0.9955"
     ]
    }
   ],
   "source": [
    "#Training the model\n",
    "callback = tf.keras.callbacks.EarlyStopping(monitor='loss', patience=5)\n",
    "history = model.fit_generator(train_data,\n",
    "      steps_per_epoch=77,\n",
    "      epochs=50,\n",
    "      callbacks=[callback],\n",
    "      validation_data=test_data,\n",
    "      validation_steps=50)"
   ]
  },
  {
   "cell_type": "code",
   "execution_count": null,
   "metadata": {},
   "outputs": [],
   "source": [
    "#Saving the weights file of trained model\n",
    "model.save(\"weightsfile.h5\")"
   ]
  }
 ],
 "metadata": {
  "kernelspec": {
   "display_name": "Python 3",
   "language": "python",
   "name": "python3"
  },
  "language_info": {
   "codemirror_mode": {
    "name": "ipython",
    "version": 3
   },
   "file_extension": ".py",
   "mimetype": "text/x-python",
   "name": "python",
   "nbconvert_exporter": "python",
   "pygments_lexer": "ipython3",
   "version": "3.7.8rc1"
  },
  "orig_nbformat": 4,
  "vscode": {
   "interpreter": {
    "hash": "a5659a247f1c535bd5330649d0d4a44efa9fb0ec74311356c5a6676c25446ad7"
   }
  }
 },
 "nbformat": 4,
 "nbformat_minor": 2
}
